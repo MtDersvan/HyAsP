{
 "cells": [
  {
   "cell_type": "markdown",
   "metadata": {},
   "source": [
    "# Example usage of HyAsP\n",
    "\n",
    "In this notebook, we show how to use HyAsP to determine plasmids - starting from an assembly or FASTQ reads.\n",
    "\n",
    "We provide the commands for the different steps, once when using HyAsP through a Singularity container and once when using it directly. The commands can be executed from this notebook but are rather slow this way.\n",
    "\n",
    "\n",
    "The following example uses the plasmids [CP004026](https://www.ncbi.nlm.nih.gov/nuccore/CP004026.1/) and [CP004028](https://www.ncbi.nlm.nih.gov/nuccore/CP004028.1/) (resp. their genes) and the reads [SRR1029665](https://www.ncbi.nlm.nih.gov/sra/SRR1029665) (from which the plasmids were derived)."
   ]
  },
  {
   "cell_type": "code",
   "execution_count": 12,
   "metadata": {},
   "outputs": [],
   "source": [
    "example_dir = 'example_files'"
   ]
  },
  {
   "cell_type": "markdown",
   "metadata": {},
   "source": [
    "## Using HyAsP through Singularity\n",
    "\n",
    "Here, we will use HyAsP (or the pipeline) through [Singularity](https://www.sylabs.io/) containers.\n",
    "\n",
    "We assume that Singularity is available through the command `singularity` and that the containers have been built from the definition files in `singularity/` as described in the main README of the repository.\n",
    "\n",
    "We provide two containers: `hyasp_only.img` contains only HyAsP (and its direct dependencies) but not the pipeline, while `hyasp_pipeline.img` contains HyAsP and all the dependencies necessary to run the pipeline."
   ]
  },
  {
   "cell_type": "code",
   "execution_count": null,
   "metadata": {},
   "outputs": [],
   "source": [
    "# adapt to your system\n",
    "hyasp_only_path = '/path/to/hyasp_only.img'\n",
    "hyasp_pipeline_path = '/path/to/hyasp_pipeline.img'"
   ]
  },
  {
   "cell_type": "markdown",
   "metadata": {},
   "source": [
    "### HyAsP (from assembly to plasmids)\n",
    "\n",
    "In the following commands, we use the HyAsP-only container. Alternatively, the commands can be executed with the pipeline container by replacing `singularity run hyasp_only.img` with `singularity run --app hyasp hyasp_pipeline.img`."
   ]
  },
  {
   "cell_type": "markdown",
   "metadata": {},
   "source": [
    "***1) Create a gene database from a collection of plasmids***\n",
    "\n",
    "Here, we collect the genes from two plasmids given by their accession numbers and store them in `genes.fasta`."
   ]
  },
  {
   "cell_type": "code",
   "execution_count": null,
   "metadata": {},
   "outputs": [],
   "source": [
    "%%bash -s \"$example_dir\" \"$hyasp_only_path\"\n",
    "EXAMPLE_DIR=$1\n",
    "HYASP_PATH=$2\n",
    "\n",
    "cd ${EXAMPLE_DIR}\n",
    "singularity run ${HYASP_PATH} create genes.fasta -a CP004026,CP004028 -c"
   ]
  },
  {
   "cell_type": "markdown",
   "metadata": {},
   "source": [
    "The newly created `genes.fasta` should be equal to the provided `_genes.fasta`."
   ]
  },
  {
   "cell_type": "markdown",
   "metadata": {},
   "source": [
    "***2) Map a collection of genes to the contigs of an assembly***\n",
    "\n",
    "Next, we map the collected genes (in `genes.fasta`) to the contigs of an assembly (provided in `_assembly.gfa`) and store the resulting gene-contig mapping in `gcm.csv`.\n",
    "\n",
    "Requires *BLAST+* (v2.6.0; makeblastdb, blastn)."
   ]
  },
  {
   "cell_type": "code",
   "execution_count": null,
   "metadata": {},
   "outputs": [],
   "source": [
    "%%bash -s \"$example_dir\" \"$hyasp_only_path\"\n",
    "EXAMPLE_DIR=$1\n",
    "HYASP_PATH=$2\n",
    "\n",
    "cd ${EXAMPLE_DIR}\n",
    "singularity run ${HYASP_PATH} map genes.fasta gcm.csv -g _assembly.gfa -c"
   ]
  },
  {
   "cell_type": "markdown",
   "metadata": {},
   "source": [
    "The newly created created `gcm.csv` should be equal to the provided `_gcm.csv`."
   ]
  },
  {
   "cell_type": "markdown",
   "metadata": {},
   "source": [
    "***3) Filter a gene-contig mapping***\n",
    "\n",
    "Now, we remove short and low-quality hits from the gene-contig mapping (in `gcm.csv`, supported by the gene collection in `genes.fasta`) and store the filtered mapping in `filtered_gcm.csv`."
   ]
  },
  {
   "cell_type": "code",
   "execution_count": null,
   "metadata": {},
   "outputs": [],
   "source": [
    "%%bash -s \"$example_dir\" \"$hyasp_only_path\"\n",
    "EXAMPLE_DIR=$1\n",
    "HYASP_PATH=$2\n",
    "\n",
    "cd ${EXAMPLE_DIR}\n",
    "singularity run ${HYASP_PATH} filter genes.fasta gcm.csv filtered_gcm.csv"
   ]
  },
  {
   "cell_type": "markdown",
   "metadata": {},
   "source": [
    "The newly created `filtered_gcm.csv` should be equal to the provided `_filtered_gcm.csv`."
   ]
  },
  {
   "cell_type": "markdown",
   "metadata": {},
   "source": [
    "***4) Find plasmids in an assembly graph***\n",
    "\n",
    "Finally, we use the gene collection (`genes.fasta`) and the filtered gene-contig mapping (`filtered_gcm.csv`) to find plasmids in the assembly graph (`_assembly.gfa`) and store the results in directory `hyasp_outputs`."
   ]
  },
  {
   "cell_type": "code",
   "execution_count": null,
   "metadata": {},
   "outputs": [],
   "source": [
    "%%bash -s \"$example_dir\" \"$hyasp_only_path\"\n",
    "EXAMPLE_DIR=$1\n",
    "HYASP_PATH=$2\n",
    "\n",
    "cd ${EXAMPLE_DIR}\n",
    "mkdir hyasp_outputs\n",
    "singularity run ${HYASP_PATH} find _assembly.gfa genes.fasta filtered_gcm.csv hyasp_outputs"
   ]
  },
  {
   "cell_type": "markdown",
   "metadata": {},
   "source": [
    "The newly created output files in `hyasp_outputs` should be equal to the provided `_hyasp_outputs`."
   ]
  },
  {
   "cell_type": "markdown",
   "metadata": {},
   "source": [
    "### Pipeline (from FASTQ reads to plasmids)\n",
    "\n",
    "Here, we find plasmids in an assembly (to be created from the provided files `_SRR1029665_1.fastq` and `_SRR1029665_2.fastq`) using the genes provided in `_genes.fasta`.\n",
    "\n",
    "Requires *Pilon* (v1.22), *Trim Galore* (v0.4.5_dev), *SPAdes* (v3.12.0) and *Unicycler* (v0.4.5). "
   ]
  },
  {
   "cell_type": "code",
   "execution_count": null,
   "metadata": {},
   "outputs": [],
   "source": [
    "%%bash -s \"$example_dir\" \"$hyasp_pipeline_path\"\n",
    "EXAMPLE_DIR=$1\n",
    "HYASP_PATH=$2\n",
    "\n",
    "cd ${EXAMPLE_DIR}\n",
    "mkdir pipeline_outputs\n",
    "singularity run ${HYASP_PATH} pipeline_outputs _genes.fasta -1 _SRR1029665_1.fastq -2 _SRR1029665_2.fastq"
   ]
  },
  {
   "cell_type": "markdown",
   "metadata": {},
   "source": [
    "The outputs in `pipeline_outputs` (the outputs of HyAsP are stored in in the `pipeline_outputs/plasmids/greedy/`) should be equal to the provided ones in `_pipeline_outputs`."
   ]
  },
  {
   "cell_type": "markdown",
   "metadata": {},
   "source": [
    "## Using HyAsP directly\n",
    "\n",
    "Here, we will use HyAsP (or the pipeline) directly instead of running them through a Singularity container.\n",
    "\n",
    "We assume that HyAsP has been installed, i.e. the commands `hyasp` and `hyasp_pipeline` are available. Alternatively, enter the directory containing the scripts `hyasp.py` and `fastq_to_plasmids.py` and replace `hyasp` (resp. `hyasp_pipeline`) with `python hyasp.py` (resp. `python fastq_to_plasmids.py`) in the following commands.\n",
    "\n",
    "We further assume that the dependencies of HyAsP (or the pipeline) are satisfied. It might be necessary to specifiy the paths to executables the corresponding dependencies in the commands. The different commands list the dependencies (if any)."
   ]
  },
  {
   "cell_type": "markdown",
   "metadata": {},
   "source": [
    "### HyAsP (from assembly to plasmids)"
   ]
  },
  {
   "cell_type": "markdown",
   "metadata": {},
   "source": [
    "***1) Create a gene database from a collection of plasmids***\n",
    "\n",
    "Here, we collect the genes from two plasmids given by their accession numbers and store them in `genes.fasta`."
   ]
  },
  {
   "cell_type": "code",
   "execution_count": null,
   "metadata": {},
   "outputs": [],
   "source": [
    "%%bash -s \"$example_dir\"\n",
    "EXAMPLE_DIR=$1\n",
    "\n",
    "cd ${EXAMPLE_DIR}\n",
    "hyasp create genes.fasta -a CP004026,CP004028 -c"
   ]
  },
  {
   "cell_type": "markdown",
   "metadata": {},
   "source": [
    "The newly created `genes.fasta` should be equal to the provided `_genes.fasta`."
   ]
  },
  {
   "cell_type": "markdown",
   "metadata": {},
   "source": [
    "***2) Map a collection of genes to the contigs of an assembly***\n",
    "\n",
    "Next, we map the collected genes (in `genes.fasta`) to the contigs of an assembly (provided in `_assembly.gfa`) and store the resulting gene-contig mapping in `gcm.csv`.\n",
    "\n",
    "Requires *BLAST+* (v2.6.0; makeblastdb, blastn)."
   ]
  },
  {
   "cell_type": "code",
   "execution_count": null,
   "metadata": {},
   "outputs": [],
   "source": [
    "%%bash -s \"$example_dir\"\n",
    "EXAMPLE_DIR=$1\n",
    "\n",
    "cd ${EXAMPLE_DIR}\n",
    "hyasp map genes.fasta gcm.csv -g _assembly.gfa -c"
   ]
  },
  {
   "cell_type": "markdown",
   "metadata": {},
   "source": [
    "The newly created created `gcm.csv` should be equal to the provided `_gcm.csv`."
   ]
  },
  {
   "cell_type": "markdown",
   "metadata": {},
   "source": [
    "***3) Filter a gene-contig mapping***\n",
    "\n",
    "Now, we remove short and low-quality hits from the gene-contig mapping (in `gcm.csv`, supported by the gene collection in `genes.fasta`) and store the filtered mapping in `filtered_gcm.csv`."
   ]
  },
  {
   "cell_type": "code",
   "execution_count": null,
   "metadata": {},
   "outputs": [],
   "source": [
    "%%bash -s \"$example_dir\"\n",
    "EXAMPLE_DIR=$1\n",
    "\n",
    "cd ${EXAMPLE_DIR}\n",
    "hyasp filter genes.fasta gcm.csv filtered_gcm.csv"
   ]
  },
  {
   "cell_type": "markdown",
   "metadata": {},
   "source": [
    "The newly created `filtered_gcm.csv` should be equal to the provided `_filtered_gcm.csv`."
   ]
  },
  {
   "cell_type": "markdown",
   "metadata": {},
   "source": [
    "***4) Find plasmids in an assembly graph***\n",
    "\n",
    "Finally, we use the gene collection (`genes.fasta`) and the filtered gene-contig mapping (`filtered_gcm.csv`) to find plasmids in the assembly graph (`_assembly.gfa`) and store the results in directory `hyasp_outputs`."
   ]
  },
  {
   "cell_type": "code",
   "execution_count": null,
   "metadata": {},
   "outputs": [],
   "source": [
    "%%bash -s \"$example_dir\"\n",
    "EXAMPLE_DIR=$1\n",
    "\n",
    "cd ${EXAMPLE_DIR}\n",
    "mkdir hyasp_outputs\n",
    "hyasp find _assembly.gfa genes.fasta filtered_gcm.csv hyasp_outputs"
   ]
  },
  {
   "cell_type": "markdown",
   "metadata": {},
   "source": [
    "The newly created output files in `hyasp_outputs` should be equal to the provided `_hyasp_outputs`."
   ]
  },
  {
   "cell_type": "markdown",
   "metadata": {},
   "source": [
    "### Pipeline (from FASTQ reads to plasmids)\n",
    "\n",
    "Here, we find plasmids in an assembly (to be created from the provided files `_SRR1029665_1.fastq` and `_SRR1029665_2.fastq`) using the genes provided in `_genes.fasta`.\n",
    "\n",
    "Requires *Pilon* (v1.22), *Trim Galore* (v0.4.5_dev), *SPAdes* (v3.12.0) and *Unicycler* (v0.4.5). "
   ]
  },
  {
   "cell_type": "code",
   "execution_count": null,
   "metadata": {},
   "outputs": [],
   "source": [
    "%%bash -s \"$example_dir\"\n",
    "EXAMPLE_DIR=$1\n",
    "\n",
    "cd ${EXAMPLE_DIR}\n",
    "mkdir pipeline_outputs\n",
    "hyasp_pipeline pipeline_outputs _genes.fasta -1 _SRR1029665_1.fastq -2 _SRR1029665_2.fastq"
   ]
  },
  {
   "cell_type": "markdown",
   "metadata": {},
   "source": [
    "The outputs in `pipeline_outputs` (the outputs of HyAsP are stored in in the `pipeline_outputs/plasmids/greedy/`) should be equal to the provided ones in `_pipeline_outputs`."
   ]
  }
 ],
 "metadata": {
  "kernelspec": {
   "display_name": "Python 3",
   "language": "python",
   "name": "python3"
  },
  "language_info": {
   "codemirror_mode": {
    "name": "ipython",
    "version": 3
   },
   "file_extension": ".py",
   "mimetype": "text/x-python",
   "name": "python",
   "nbconvert_exporter": "python",
   "pygments_lexer": "ipython3",
   "version": "3.5.4"
  }
 },
 "nbformat": 4,
 "nbformat_minor": 2
}
